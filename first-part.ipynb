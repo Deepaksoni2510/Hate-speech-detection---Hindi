{
 "cells": [
  {
   "cell_type": "code",
   "execution_count": 8,
   "metadata": {},
   "outputs": [],
   "source": [
    "import os\n",
    "import re\n",
    "import numpy as np\n",
    "import pandas as pd\n",
    "import matplotlib.pyplot as plt\n",
    "from collections import Counter\n",
    "from tqdm import tqdm\n",
    "\n",
    "import torch\n",
    "import torch.nn as nn\n",
    "import torch.optim as optim\n",
    "import torch.utils.data as data\n",
    "\n",
    "from transformers import AutoModel, AutoTokenizer\n",
    "from sklearn.preprocessing import MultiLabelBinarizer\n",
    "from sklearn.model_selection import train_test_split\n",
    "from sklearn.metrics import precision_score, recall_score, f1_score, log_loss"
   ]
  },
  {
   "cell_type": "code",
   "execution_count": 9,
   "metadata": {},
   "outputs": [
    {
     "name": "stdout",
     "output_type": "stream",
     "text": [
      "Using device: cuda\n"
     ]
    }
   ],
   "source": [
    "\n",
    "# ------------------------ Device Setup ------------------------\n",
    "if torch.cuda.is_available():\n",
    "    device = torch.device(\"cuda\")\n",
    "elif torch.xpu.is_available():\n",
    "    device = torch.device(\"xpu\")\n",
    "else:\n",
    "    device = torch.device(\"cpu\")\n",
    "print(\"Using device:\", device)\n",
    "\n"
   ]
  },
  {
   "cell_type": "code",
   "execution_count": 10,
   "metadata": {},
   "outputs": [],
   "source": [
    "# ------------------------ Data Loading & Preprocessing ------------------------\n",
    "df = pd.read_csv(\"constraint_Hindi_Train - Sheet1.csv\")"
   ]
  },
  {
   "cell_type": "code",
   "execution_count": 11,
   "metadata": {},
   "outputs": [],
   "source": [
    "def clean_text(text):\n",
    "    # Remove URLs and punctuation, then extra spaces\n",
    "    text = re.sub(r'http\\S+', '', text)\n",
    "    text = re.sub(r'www\\.\\S+', '', text)\n",
    "    text = re.sub(r'[^\\w\\s]', '', text)\n",
    "    text = re.sub(r'\\s+', ' ', text).strip()\n",
    "    return text\n",
    "\n",
    "# Apply cleaning to dataset\n",
    "df[\"Post\"] = df[\"Post\"].apply(clean_text)\n",
    "\n"
   ]
  },
  {
   "cell_type": "code",
   "execution_count": 12,
   "metadata": {},
   "outputs": [
    {
     "data": {
      "application/vnd.microsoft.datawrangler.viewer.v0+json": {
       "columns": [
        {
         "name": "index",
         "rawType": "int64",
         "type": "integer"
        },
        {
         "name": "Unique ID",
         "rawType": "int64",
         "type": "integer"
        },
        {
         "name": "Post",
         "rawType": "object",
         "type": "string"
        },
        {
         "name": "Labels Set",
         "rawType": "object",
         "type": "string"
        }
       ],
       "conversionMethod": "pd.DataFrame",
       "ref": "0cf6b239-4315-4fea-b119-a903c185a1bc",
       "rows": [
        [
         "0",
         "1",
         "मर दश क हनद बहत नरल ह कछ त पकक रम भकत ह और कछ बबर क सल ह जय शर रम",
         "hate,offensive"
        ],
        [
         "1",
         "2",
         "सरकर हमश स कसन क कमई क बढन क लए नईनई सकम लत रहत ह तक उन पर जयद आरथक बझ न पड",
         "non-hostile"
        ],
        [
         "2",
         "3",
         "सशत न ज बजनस डल 9 जन क क थ व डल दपश क सशत क हतय क दन ह कय यद आई दखए पछत ह भरत अरनब क सथ रपबलक भरत पर LIVE",
         "non-hostile"
        ],
        [
         "3",
         "4",
         "prabhav218 सल जएनय छप कमन लग हनदओ क यह कहत ह क सवधन सबक बरबर अधकर दत ह सचचई यह ह क यह बरबर अधकर नह दत ह",
         "defamation,offensive"
        ],
        [
         "4",
         "5",
         "unlock4guidelines अनलक4 क लए गइडलइनस जर 7 सतबर स दशभर म मटर सव शर हग 21 सतबर क बद रलय और बक फकशन म 100 लग क इजजत कटनमट जन म कई छट नह सनमहल अभ बद रहग 9 स 12व क छतर 21 सतबर क बद सकल ज सकग",
         "non-hostile"
        ]
       ],
       "shape": {
        "columns": 3,
        "rows": 5
       }
      },
      "text/html": [
       "<div>\n",
       "<style scoped>\n",
       "    .dataframe tbody tr th:only-of-type {\n",
       "        vertical-align: middle;\n",
       "    }\n",
       "\n",
       "    .dataframe tbody tr th {\n",
       "        vertical-align: top;\n",
       "    }\n",
       "\n",
       "    .dataframe thead th {\n",
       "        text-align: right;\n",
       "    }\n",
       "</style>\n",
       "<table border=\"1\" class=\"dataframe\">\n",
       "  <thead>\n",
       "    <tr style=\"text-align: right;\">\n",
       "      <th></th>\n",
       "      <th>Unique ID</th>\n",
       "      <th>Post</th>\n",
       "      <th>Labels Set</th>\n",
       "    </tr>\n",
       "  </thead>\n",
       "  <tbody>\n",
       "    <tr>\n",
       "      <th>0</th>\n",
       "      <td>1</td>\n",
       "      <td>मर दश क हनद बहत नरल ह कछ त पकक रम भकत ह और कछ ...</td>\n",
       "      <td>hate,offensive</td>\n",
       "    </tr>\n",
       "    <tr>\n",
       "      <th>1</th>\n",
       "      <td>2</td>\n",
       "      <td>सरकर हमश स कसन क कमई क बढन क लए नईनई सकम लत रह...</td>\n",
       "      <td>non-hostile</td>\n",
       "    </tr>\n",
       "    <tr>\n",
       "      <th>2</th>\n",
       "      <td>3</td>\n",
       "      <td>सशत न ज बजनस डल 9 जन क क थ व डल दपश क सशत क हत...</td>\n",
       "      <td>non-hostile</td>\n",
       "    </tr>\n",
       "    <tr>\n",
       "      <th>3</th>\n",
       "      <td>4</td>\n",
       "      <td>prabhav218 सल जएनय छप कमन लग हनदओ क यह कहत ह क...</td>\n",
       "      <td>defamation,offensive</td>\n",
       "    </tr>\n",
       "    <tr>\n",
       "      <th>4</th>\n",
       "      <td>5</td>\n",
       "      <td>unlock4guidelines अनलक4 क लए गइडलइनस जर 7 सतबर...</td>\n",
       "      <td>non-hostile</td>\n",
       "    </tr>\n",
       "  </tbody>\n",
       "</table>\n",
       "</div>"
      ],
      "text/plain": [
       "   Unique ID                                               Post  \\\n",
       "0          1  मर दश क हनद बहत नरल ह कछ त पकक रम भकत ह और कछ ...   \n",
       "1          2  सरकर हमश स कसन क कमई क बढन क लए नईनई सकम लत रह...   \n",
       "2          3  सशत न ज बजनस डल 9 जन क क थ व डल दपश क सशत क हत...   \n",
       "3          4  prabhav218 सल जएनय छप कमन लग हनदओ क यह कहत ह क...   \n",
       "4          5  unlock4guidelines अनलक4 क लए गइडलइनस जर 7 सतबर...   \n",
       "\n",
       "             Labels Set  \n",
       "0        hate,offensive  \n",
       "1           non-hostile  \n",
       "2           non-hostile  \n",
       "3  defamation,offensive  \n",
       "4           non-hostile  "
      ]
     },
     "execution_count": 12,
     "metadata": {},
     "output_type": "execute_result"
    }
   ],
   "source": [
    "df.head()"
   ]
  },
  {
   "cell_type": "code",
   "execution_count": 13,
   "metadata": {},
   "outputs": [
    {
     "name": "stdout",
     "output_type": "stream",
     "text": [
      "\n",
      "Number of Rows: 5728\n",
      "Number of Columns: 3\n",
      "\n",
      "Missing Values:\n",
      "Unique ID     0\n",
      "Post          0\n",
      "Labels Set    0\n",
      "dtype: int64\n"
     ]
    }
   ],
   "source": [
    "\n",
    "# Check for missing values and dataset shape\n",
    "num_rows, num_columns = df.shape\n",
    "print(f\"\\nNumber of Rows: {num_rows}\")\n",
    "print(f\"Number of Columns: {num_columns}\")\n",
    "print(\"\\nMissing Values:\")\n",
    "print(df.isnull().sum())\n"
   ]
  },
  {
   "cell_type": "code",
   "execution_count": 14,
   "metadata": {},
   "outputs": [
    {
     "name": "stdout",
     "output_type": "stream",
     "text": [
      "\n",
      "Label Distribution:\n",
      "hate: 792\n",
      "offensive: 742\n",
      "non-hostile: 3050\n",
      "defamation: 564\n",
      "fake: 1144\n"
     ]
    }
   ],
   "source": [
    "\n",
    "# Process labels\n",
    "df['Labels Set'] = df['Labels Set'].str.split(',')\n",
    "mlb = MultiLabelBinarizer()\n",
    "labels = mlb.fit_transform(df['Labels Set'])\n",
    "\n",
    "label_counts = Counter(label for labels_list in df['Labels Set'] for label in labels_list)\n",
    "print(\"\\nLabel Distribution:\")\n",
    "for label, count in label_counts.items():\n",
    "    print(f\"{label}: {count}\")\n"
   ]
  },
  {
   "cell_type": "code",
   "execution_count": 15,
   "metadata": {},
   "outputs": [
    {
     "data": {
      "image/png": "[encoded data removed]",
      "text/plain": [
       "<Figure size 1000x600 with 1 Axes>"
      ]
     },
     "metadata": {},
     "output_type": "display_data"
    }
   ],
   "source": [
    "# Visualize label distribution\n",
    "plt.figure(figsize=(10, 6))\n",
    "plt.bar(label_counts.keys(), label_counts.values(), color='skyblue')\n",
    "plt.xlabel('Labels')\n",
    "plt.ylabel('Frequency')\n",
    "plt.title('Distribution of Labels')\n",
    "plt.xticks(rotation=45)\n",
    "plt.show()"
   ]
  },
  {
   "cell_type": "code",
   "execution_count": null,
   "metadata": {},
   "outputs": [
    {
     "name": "stdout",
     "output_type": "stream",
     "text": [
      "\n",
      "Single-label Records: 5247\n",
      "Multi-label Records: 481\n"
     ]
    },
    {
     "data": {
      "image/png": "[encoded data removed]",
      "text/plain": [
       "<Figure size 600x600 with 1 Axes>"
      ]
     },
     "metadata": {},
     "output_type": "display_data"
    }
   ],
   "source": [
    "# Single vs. Multi-label count\n",
    "df['Num Labels'] = df['Labels Set'].apply(len)\n",
    "single_label = df[df['Num Labels'] == 1].shape[0]\n",
    "multi_label = df[df['Num Labels'] > 1].shape[0]\n",
    "print(f\"\\nSingle-label Records: {single_label}\")\n",
    "print(f\"Multi-label Records: {multi_label}\")\n",
    "\n",
    "plt.figure(figsize=(6, 6))\n",
    "plt.pie([single_label, multi_label],\n",
    "        labels=['Single Label', 'Multi-label'],\n",
    "        autopct='%1.1f%%',\n",
    "        colors=['#66c2a5', '#fc8d62\n",
    "plt.title('Single vs. Multi-label Records')\n",
    "plt.show()"
   ]
  },
  {
   "cell_type": "code",
   "execution_count": 17,
   "metadata": {},
   "outputs": [],
   "source": [
    "\n",
    "# ------------------------ Tokenization ------------------------\n",
    "tokenizer = AutoTokenizer.from_pretrained(\"ai4bharat/indic-bert\")\n",
    "indic_bert = AutoModel.from_pretrained(\"ai4bharat/indic-bert\")\n",
    "indic_bert.to(device)\n",
    "\n",
    "max_length = 128\n",
    "df['Tokens'] = df['Post'].apply(lambda text: tokenizer(text, \n",
    "                                                       padding='max_length', \n",
    "                                                       truncation=True, \n",
    "                                                       max_length=max_length, \n",
    "                                                       return_tensors=\"pt\")['input_ids'].squeeze())"
   ]
  },
  {
   "cell_type": "code",
   "execution_count": 18,
   "metadata": {},
   "outputs": [],
   "source": [
    "\n",
    "# ------------------------ Train-Test Split & Tensor Conversion ------------------------\n",
    "X_train, X_test, y_train, y_test = train_test_split(df['Tokens'].tolist(), labels, test_size=0.2, random_state=42)\n",
    "X_train_tensor = torch.stack(X_train).to(device)\n",
    "X_test_tensor = torch.stack(X_test).to(device)\n",
    "y_train_tensor = torch.tensor(y_train, dtype=torch.float32).to(device)\n",
    "y_test_tensor = torch.tensor(y_test, dtype=torch.float32).to(device)\n",
    "\n",
    "train_dataset = data.TensorDataset(X_train_tensor, y_train_tensor)\n",
    "test_dataset = data.TensorDataset(X_test_tensor, y_test_tensor)\n",
    "\n",
    "batch_size = 16\n",
    "train_loader = data.DataLoader(train_dataset, batch_size=batch_size, shuffle=True)\n",
    "test_loader = data.DataLoader(test_dataset, batch_size=batch_size, shuffle=False)"
   ]
  },
  {
   "cell_type": "code",
   "execution_count": 19,
   "metadata": {},
   "outputs": [],
   "source": [
    "# ------------------------ Define the Hybrid Model ------------------------\n",
    "class HybridModel(nn.Module):\n",
    "    def __init__(self, bert_model, num_classes):\n",
    "        super(HybridModel, self).__init__()\n",
    "        self.bert = bert_model\n",
    "        self.conv1 = nn.Conv1d(in_channels=768, out_channels=256, kernel_size=3, padding=1)\n",
    "        self.conv2 = nn.Conv1d(in_channels=256, out_channels=128, kernel_size=3, padding=1)\n",
    "        self.fc = nn.Linear(128, num_classes)\n",
    "        self.relu = nn.ReLU()\n",
    "        self.sigmoid = nn.Sigmoid()\n",
    "\n",
    "    def forward(self, input_ids):\n",
    "        with torch.no_grad():\n",
    "            bert_output = self.bert(input_ids).last_hidden_state\n",
    "        conv1_out = self.relu(self.conv1(bert_output.permute(0, 2, 1)))\n",
    "        conv2_out = self.relu(self.conv2(conv1_out))\n",
    "        pooled = torch.mean(conv2_out, dim=2)\n",
    "        output = self.sigmoid(self.fc(pooled))\n",
    "        return output\n",
    "\n",
    "num_classes = y_train.shape[1]\n",
    "model = HybridModel(indic_bert, num_classes)\n",
    "model.to(device)\n",
    "\n",
    "criterion = nn.BCELoss()\n",
    "optimizer = optim.Adam(model.parameters(), lr=1e-4)"
   ]
  },
  {
   "cell_type": "code",
   "execution_count": 20,
   "metadata": {},
   "outputs": [],
   "source": [
    "# ------------------------ Training & Evaluation Functions ------------------------\n",
    "def train_epoch(model, loader):\n",
    "    model.train()\n",
    "    epoch_loss = 0.0\n",
    "    all_targets = []\n",
    "    all_preds = []\n",
    "    \n",
    "    for inputs, targets in tqdm(loader, desc=\"Training\", leave=False):\n",
    "        optimizer.zero_grad()\n",
    "        outputs = model(inputs)\n",
    "        loss = criterion(outputs, targets)\n",
    "        loss.backward()\n",
    "        optimizer.step()\n",
    "        \n",
    "        epoch_loss += loss.item()\n",
    "        preds = (outputs.detach().cpu().numpy() > 0.5).astype(int)\n",
    "        all_preds.append(preds)\n",
    "        all_targets.append(targets.detach().cpu().numpy())\n",
    "        \n",
    "    avg_loss = epoch_loss / len(loader)\n",
    "    all_preds = np.concatenate(all_preds, axis=0)\n",
    "    all_targets = np.concatenate(all_targets, axis=0)\n",
    "    \n",
    "    # Calculate metrics (accuracy, precision, recall, F1)\n",
    "    accuracy = np.mean(all_preds == all_targets)\n",
    "    precision = precision_score(all_targets, all_preds, average='micro', zero_division=0)\n",
    "    recall = recall_score(all_targets, all_preds, average='micro', zero_division=0)\n",
    "    f1 = f1_score(all_targets, all_preds, average='micro', zero_division=0)\n",
    "    \n",
    "    return avg_loss, accuracy, precision, recall, f1\n",
    "\n",
    "def evaluate(model, loader):\n",
    "    model.eval()\n",
    "    epoch_loss = 0.0\n",
    "    all_targets = []\n",
    "    all_preds = []\n",
    "    \n",
    "    with torch.no_grad():\n",
    "        for inputs, targets in loader:\n",
    "            outputs = model(inputs)\n",
    "            loss = criterion(outputs, targets)\n",
    "            epoch_loss += loss.item()\n",
    "            preds = (outputs.cpu().numpy() > 0.5).astype(int)\n",
    "            all_preds.append(preds)\n",
    "            all_targets.append(targets.cpu().numpy())\n",
    "            \n",
    "    avg_loss = epoch_loss / len(loader)\n",
    "    all_preds = np.concatenate(all_preds, axis=0)\n",
    "    all_targets = np.concatenate(all_targets, axis=0)\n",
    "    \n",
    "    accuracy = np.mean(all_preds == all_targets)\n",
    "    precision = precision_score(all_targets, all_preds, average='micro', zero_division=0)\n",
    "    recall = recall_score(all_targets, all_preds, average='micro', zero_division=0)\n",
    "    f1 = f1_score(all_targets, all_preds, average='micro', zero_division=0)\n",
    "    \n",
    "    return avg_loss, accuracy, precision, recall, f1\n"
   ]
  },
  {
   "cell_type": "code",
   "execution_count": 21,
   "metadata": {},
   "outputs": [
    {
     "name": "stderr",
     "output_type": "stream",
     "text": [
      "Training:   0%|          | 0/287 [00:00<?, ?it/s]We strongly recommend passing in an `attention_mask` since your input_ids may be padded. See https://huggingface.co/docs/transformers/troubleshooting#incorrect-output-when-padding-tokens-arent-masked.\n",
      "                                                           \r"
     ]
    },
    {
     "name": "stdout",
     "output_type": "stream",
     "text": [
      "Epoch 1: Loss=0.4609 Acc=0.8019 Prec=0.5728 Rec=0.3827 F1=0.4588\n",
      "--> New best model saved with accuracy: 0.8019\n"
     ]
    },
    {
     "name": "stderr",
     "output_type": "stream",
     "text": [
      "                                                           \r"
     ]
    },
    {
     "name": "stdout",
     "output_type": "stream",
     "text": [
      "Epoch 2: Loss=0.4192 Acc=0.8318 Prec=0.6922 Rec=0.4208 F1=0.5234\n",
      "--> New best model saved with accuracy: 0.8318\n"
     ]
    },
    {
     "name": "stderr",
     "output_type": "stream",
     "text": [
      "                                                           \r"
     ]
    },
    {
     "name": "stdout",
     "output_type": "stream",
     "text": [
      "Epoch 3: Loss=0.3946 Acc=0.8416 Prec=0.7513 Rec=0.4163 F1=0.5357\n",
      "--> New best model saved with accuracy: 0.8416\n"
     ]
    },
    {
     "name": "stderr",
     "output_type": "stream",
     "text": [
      "                                                           \r"
     ]
    },
    {
     "name": "stdout",
     "output_type": "stream",
     "text": [
      "Epoch 4: Loss=0.3782 Acc=0.8467 Prec=0.7729 Rec=0.4270 F1=0.5501\n",
      "--> New best model saved with accuracy: 0.8467\n"
     ]
    },
    {
     "name": "stderr",
     "output_type": "stream",
     "text": [
      "                                                           \r"
     ]
    },
    {
     "name": "stdout",
     "output_type": "stream",
     "text": [
      "Epoch 5: Loss=0.3674 Acc=0.8481 Prec=0.7760 Rec=0.4326 F1=0.5555\n",
      "--> New best model saved with accuracy: 0.8481\n"
     ]
    },
    {
     "name": "stderr",
     "output_type": "stream",
     "text": [
      "                                                           \r"
     ]
    },
    {
     "name": "stdout",
     "output_type": "stream",
     "text": [
      "Epoch 6: Loss=0.3569 Acc=0.8514 Prec=0.7875 Rec=0.4423 F1=0.5665\n",
      "--> New best model saved with accuracy: 0.8514\n"
     ]
    },
    {
     "name": "stderr",
     "output_type": "stream",
     "text": [
      "                                                           \r"
     ]
    },
    {
     "name": "stdout",
     "output_type": "stream",
     "text": [
      "Epoch 7: Loss=0.3484 Acc=0.8533 Prec=0.7996 Rec=0.4421 F1=0.5694\n",
      "--> New best model saved with accuracy: 0.8533\n"
     ]
    },
    {
     "name": "stderr",
     "output_type": "stream",
     "text": [
      "                                                           \r"
     ]
    },
    {
     "name": "stdout",
     "output_type": "stream",
     "text": [
      "Epoch 8: Loss=0.3416 Acc=0.8545 Prec=0.7953 Rec=0.4537 F1=0.5778\n",
      "--> New best model saved with accuracy: 0.8545\n"
     ]
    },
    {
     "name": "stderr",
     "output_type": "stream",
     "text": [
      "                                                           \r"
     ]
    },
    {
     "name": "stdout",
     "output_type": "stream",
     "text": [
      "Epoch 9: Loss=0.3358 Acc=0.8579 Prec=0.8096 Rec=0.4608 F1=0.5873\n",
      "--> New best model saved with accuracy: 0.8579\n"
     ]
    },
    {
     "name": "stderr",
     "output_type": "stream",
     "text": [
      "                                                           \r"
     ]
    },
    {
     "name": "stdout",
     "output_type": "stream",
     "text": [
      "Epoch 10: Loss=0.3303 Acc=0.8577 Prec=0.8027 Rec=0.4662 F1=0.5898\n"
     ]
    },
    {
     "name": "stderr",
     "output_type": "stream",
     "text": [
      "                                                           \r"
     ]
    },
    {
     "name": "stdout",
     "output_type": "stream",
     "text": [
      "Epoch 11: Loss=0.3259 Acc=0.8621 Prec=0.8196 Rec=0.4763 F1=0.6025\n",
      "--> New best model saved with accuracy: 0.8621\n"
     ]
    },
    {
     "name": "stderr",
     "output_type": "stream",
     "text": [
      "                                                           \r"
     ]
    },
    {
     "name": "stdout",
     "output_type": "stream",
     "text": [
      "Epoch 12: Loss=0.3218 Acc=0.8611 Prec=0.8093 Rec=0.4801 F1=0.6027\n"
     ]
    },
    {
     "name": "stderr",
     "output_type": "stream",
     "text": [
      "                                                           \r"
     ]
    },
    {
     "name": "stdout",
     "output_type": "stream",
     "text": [
      "Epoch 13: Loss=0.3188 Acc=0.8625 Prec=0.8166 Rec=0.4819 F1=0.6061\n"
     ]
    },
    {
     "name": "stderr",
     "output_type": "stream",
     "text": [
      "                                                           \r"
     ]
    },
    {
     "name": "stdout",
     "output_type": "stream",
     "text": [
      "Epoch 14: Loss=0.3156 Acc=0.8639 Prec=0.8129 Rec=0.4934 F1=0.6141\n",
      "--> New best model saved with accuracy: 0.8639\n"
     ]
    },
    {
     "name": "stderr",
     "output_type": "stream",
     "text": [
      "                                                           \r"
     ]
    },
    {
     "name": "stdout",
     "output_type": "stream",
     "text": [
      "Epoch 15: Loss=0.3119 Acc=0.8650 Prec=0.8216 Rec=0.4918 F1=0.6153\n",
      "--> New best model saved with accuracy: 0.8650\n"
     ]
    },
    {
     "name": "stderr",
     "output_type": "stream",
     "text": [
      "                                                           \r"
     ]
    },
    {
     "name": "stdout",
     "output_type": "stream",
     "text": [
      "Epoch 16: Loss=0.3089 Acc=0.8662 Prec=0.8171 Rec=0.5030 F1=0.6227\n",
      "--> New best model saved with accuracy: 0.8662\n"
     ]
    },
    {
     "name": "stderr",
     "output_type": "stream",
     "text": [
      "                                                           \r"
     ]
    },
    {
     "name": "stdout",
     "output_type": "stream",
     "text": [
      "Epoch 17: Loss=0.3071 Acc=0.8677 Prec=0.8201 Rec=0.5088 F1=0.6280\n",
      "--> New best model saved with accuracy: 0.8677\n"
     ]
    },
    {
     "name": "stderr",
     "output_type": "stream",
     "text": [
      "                                                           \r"
     ]
    },
    {
     "name": "stdout",
     "output_type": "stream",
     "text": [
      "Epoch 18: Loss=0.3046 Acc=0.8688 Prec=0.8220 Rec=0.5133 F1=0.6320\n",
      "--> New best model saved with accuracy: 0.8688\n"
     ]
    },
    {
     "name": "stderr",
     "output_type": "stream",
     "text": [
      "                                                           \r"
     ]
    },
    {
     "name": "stdout",
     "output_type": "stream",
     "text": [
      "Epoch 19: Loss=0.3024 Acc=0.8667 Prec=0.8101 Rec=0.5125 F1=0.6278\n"
     ]
    },
    {
     "name": "stderr",
     "output_type": "stream",
     "text": [
      "                                                           \r"
     ]
    },
    {
     "name": "stdout",
     "output_type": "stream",
     "text": [
      "Epoch 20: Loss=0.2988 Acc=0.8711 Prec=0.8272 Rec=0.5219 F1=0.6400\n",
      "--> New best model saved with accuracy: 0.8711\n"
     ]
    },
    {
     "name": "stderr",
     "output_type": "stream",
     "text": [
      "                                                           \r"
     ]
    },
    {
     "name": "stdout",
     "output_type": "stream",
     "text": [
      "Epoch 21: Loss=0.2972 Acc=0.8704 Prec=0.8203 Rec=0.5247 F1=0.6400\n"
     ]
    },
    {
     "name": "stderr",
     "output_type": "stream",
     "text": [
      "                                                           \r"
     ]
    },
    {
     "name": "stdout",
     "output_type": "stream",
     "text": [
      "Epoch 22: Loss=0.2950 Acc=0.8716 Prec=0.8176 Rec=0.5340 F1=0.6461\n"
     ]
    },
    {
     "name": "stderr",
     "output_type": "stream",
     "text": [
      "                                                           \r"
     ]
    },
    {
     "name": "stdout",
     "output_type": "stream",
     "text": [
      "Epoch 23: Loss=0.2927 Acc=0.8727 Prec=0.8261 Rec=0.5318 F1=0.6471\n",
      "--> New best model saved with accuracy: 0.8727\n"
     ]
    },
    {
     "name": "stderr",
     "output_type": "stream",
     "text": [
      "                                                           \r"
     ]
    },
    {
     "name": "stdout",
     "output_type": "stream",
     "text": [
      "Epoch 24: Loss=0.2901 Acc=0.8732 Prec=0.8185 Rec=0.5426 F1=0.6526\n"
     ]
    },
    {
     "name": "stderr",
     "output_type": "stream",
     "text": [
      "                                                           \r"
     ]
    },
    {
     "name": "stdout",
     "output_type": "stream",
     "text": [
      "Epoch 25: Loss=0.2878 Acc=0.8753 Prec=0.8260 Rec=0.5467 F1=0.6580\n",
      "--> New best model saved with accuracy: 0.8753\n"
     ]
    },
    {
     "name": "stderr",
     "output_type": "stream",
     "text": [
      "                                                           \r"
     ]
    },
    {
     "name": "stdout",
     "output_type": "stream",
     "text": [
      "Epoch 26: Loss=0.2857 Acc=0.8764 Prec=0.8288 Rec=0.5507 F1=0.6617\n",
      "--> New best model saved with accuracy: 0.8764\n"
     ]
    },
    {
     "name": "stderr",
     "output_type": "stream",
     "text": [
      "                                                           \r"
     ]
    },
    {
     "name": "stdout",
     "output_type": "stream",
     "text": [
      "Epoch 27: Loss=0.2836 Acc=0.8763 Prec=0.8241 Rec=0.5545 F1=0.6629\n"
     ]
    },
    {
     "name": "stderr",
     "output_type": "stream",
     "text": [
      "                                                           \r"
     ]
    },
    {
     "name": "stdout",
     "output_type": "stream",
     "text": [
      "Epoch 28: Loss=0.2809 Acc=0.8784 Prec=0.8289 Rec=0.5619 F1=0.6697\n",
      "--> New best model saved with accuracy: 0.8784\n"
     ]
    },
    {
     "name": "stderr",
     "output_type": "stream",
     "text": [
      "                                                           \r"
     ]
    },
    {
     "name": "stdout",
     "output_type": "stream",
     "text": [
      "Epoch 29: Loss=0.2793 Acc=0.8790 Prec=0.8318 Rec=0.5626 F1=0.6713\n"
     ]
    },
    {
     "name": "stderr",
     "output_type": "stream",
     "text": [
      "                                                           \r"
     ]
    },
    {
     "name": "stdout",
     "output_type": "stream",
     "text": [
      "Epoch 30: Loss=0.2771 Acc=0.8794 Prec=0.8293 Rec=0.5672 F1=0.6737\n",
      "--> New best model saved with accuracy: 0.8794\n"
     ]
    },
    {
     "name": "stderr",
     "output_type": "stream",
     "text": [
      "                                                           \r"
     ]
    },
    {
     "name": "stdout",
     "output_type": "stream",
     "text": [
      "Epoch 31: Loss=0.2761 Acc=0.8797 Prec=0.8257 Rec=0.5728 F1=0.6764\n"
     ]
    },
    {
     "name": "stderr",
     "output_type": "stream",
     "text": [
      "                                                           \r"
     ]
    },
    {
     "name": "stdout",
     "output_type": "stream",
     "text": [
      "Epoch 32: Loss=0.2733 Acc=0.8822 Prec=0.8327 Rec=0.5800 F1=0.6837\n",
      "--> New best model saved with accuracy: 0.8822\n"
     ]
    },
    {
     "name": "stderr",
     "output_type": "stream",
     "text": [
      "                                                           \r"
     ]
    },
    {
     "name": "stdout",
     "output_type": "stream",
     "text": [
      "Epoch 33: Loss=0.2719 Acc=0.8806 Prec=0.8265 Rec=0.5770 F1=0.6796\n"
     ]
    },
    {
     "name": "stderr",
     "output_type": "stream",
     "text": [
      "                                                           \r"
     ]
    },
    {
     "name": "stdout",
     "output_type": "stream",
     "text": [
      "Epoch 34: Loss=0.2684 Acc=0.8823 Prec=0.8326 Rec=0.5805 F1=0.6841\n"
     ]
    },
    {
     "name": "stderr",
     "output_type": "stream",
     "text": [
      "                                                           \r"
     ]
    },
    {
     "name": "stdout",
     "output_type": "stream",
     "text": [
      "Epoch 35: Loss=0.2680 Acc=0.8838 Prec=0.8342 Rec=0.5873 F1=0.6893\n",
      "--> New best model saved with accuracy: 0.8838\n"
     ]
    },
    {
     "name": "stderr",
     "output_type": "stream",
     "text": [
      "                                                           \r"
     ]
    },
    {
     "name": "stdout",
     "output_type": "stream",
     "text": [
      "Epoch 36: Loss=0.2630 Acc=0.8842 Prec=0.8324 Rec=0.5915 F1=0.6915\n"
     ]
    },
    {
     "name": "stderr",
     "output_type": "stream",
     "text": [
      "                                                           \r"
     ]
    },
    {
     "name": "stdout",
     "output_type": "stream",
     "text": [
      "Epoch 37: Loss=0.2627 Acc=0.8850 Prec=0.8344 Rec=0.5941 F1=0.6940\n",
      "--> New best model saved with accuracy: 0.8850\n"
     ]
    },
    {
     "name": "stderr",
     "output_type": "stream",
     "text": [
      "                                                           \r"
     ]
    },
    {
     "name": "stdout",
     "output_type": "stream",
     "text": [
      "Epoch 38: Loss=0.2591 Acc=0.8871 Prec=0.8369 Rec=0.6032 F1=0.7011\n",
      "--> New best model saved with accuracy: 0.8871\n"
     ]
    },
    {
     "name": "stderr",
     "output_type": "stream",
     "text": [
      "                                                           \r"
     ]
    },
    {
     "name": "stdout",
     "output_type": "stream",
     "text": [
      "Epoch 39: Loss=0.2580 Acc=0.8862 Prec=0.8337 Rec=0.6014 F1=0.6988\n"
     ]
    },
    {
     "name": "stderr",
     "output_type": "stream",
     "text": [
      "                                                           \r"
     ]
    },
    {
     "name": "stdout",
     "output_type": "stream",
     "text": [
      "Epoch 40: Loss=0.2576 Acc=0.8873 Prec=0.8354 Rec=0.6058 F1=0.7023\n"
     ]
    },
    {
     "name": "stderr",
     "output_type": "stream",
     "text": [
      "                                                           \r"
     ]
    },
    {
     "name": "stdout",
     "output_type": "stream",
     "text": [
      "Epoch 41: Loss=0.2537 Acc=0.8887 Prec=0.8363 Rec=0.6126 F1=0.7072\n",
      "--> New best model saved with accuracy: 0.8887\n"
     ]
    },
    {
     "name": "stderr",
     "output_type": "stream",
     "text": [
      "                                                           \r"
     ]
    },
    {
     "name": "stdout",
     "output_type": "stream",
     "text": [
      "Epoch 42: Loss=0.2518 Acc=0.8884 Prec=0.8327 Rec=0.6150 F1=0.7075\n"
     ]
    },
    {
     "name": "stderr",
     "output_type": "stream",
     "text": [
      "                                                           \r"
     ]
    },
    {
     "name": "stdout",
     "output_type": "stream",
     "text": [
      "Epoch 43: Loss=0.2483 Acc=0.8913 Prec=0.8422 Rec=0.6209 F1=0.7148\n",
      "--> New best model saved with accuracy: 0.8913\n"
     ]
    },
    {
     "name": "stderr",
     "output_type": "stream",
     "text": [
      "                                                           \r"
     ]
    },
    {
     "name": "stdout",
     "output_type": "stream",
     "text": [
      "Epoch 44: Loss=0.2467 Acc=0.8919 Prec=0.8437 Rec=0.6227 F1=0.7166\n"
     ]
    },
    {
     "name": "stderr",
     "output_type": "stream",
     "text": [
      "                                                           \r"
     ]
    },
    {
     "name": "stdout",
     "output_type": "stream",
     "text": [
      "Epoch 45: Loss=0.2452 Acc=0.8923 Prec=0.8419 Rec=0.6269 F1=0.7187\n",
      "--> New best model saved with accuracy: 0.8923\n"
     ]
    },
    {
     "name": "stderr",
     "output_type": "stream",
     "text": [
      "                                                           \r"
     ]
    },
    {
     "name": "stdout",
     "output_type": "stream",
     "text": [
      "Epoch 46: Loss=0.2420 Acc=0.8933 Prec=0.8445 Rec=0.6299 F1=0.7216\n",
      "--> New best model saved with accuracy: 0.8933\n"
     ]
    },
    {
     "name": "stderr",
     "output_type": "stream",
     "text": [
      "                                                           \r"
     ]
    },
    {
     "name": "stdout",
     "output_type": "stream",
     "text": [
      "Epoch 47: Loss=0.2387 Acc=0.8943 Prec=0.8478 Rec=0.6317 F1=0.7240\n"
     ]
    },
    {
     "name": "stderr",
     "output_type": "stream",
     "text": [
      "                                                           \r"
     ]
    },
    {
     "name": "stdout",
     "output_type": "stream",
     "text": [
      "Epoch 48: Loss=0.2385 Acc=0.8965 Prec=0.8455 Rec=0.6466 F1=0.7328\n",
      "--> New best model saved with accuracy: 0.8965\n"
     ]
    },
    {
     "name": "stderr",
     "output_type": "stream",
     "text": [
      "                                                           \r"
     ]
    },
    {
     "name": "stdout",
     "output_type": "stream",
     "text": [
      "Epoch 49: Loss=0.2354 Acc=0.8961 Prec=0.8499 Rec=0.6396 F1=0.7299\n"
     ]
    },
    {
     "name": "stderr",
     "output_type": "stream",
     "text": [
      "                                                           \r"
     ]
    },
    {
     "name": "stdout",
     "output_type": "stream",
     "text": [
      "Epoch 50: Loss=0.2358 Acc=0.8954 Prec=0.8399 Rec=0.6468 F1=0.7308\n"
     ]
    },
    {
     "name": "stderr",
     "output_type": "stream",
     "text": [
      "                                                           \r"
     ]
    },
    {
     "name": "stdout",
     "output_type": "stream",
     "text": [
      "Epoch 51: Loss=0.2298 Acc=0.8990 Prec=0.8494 Rec=0.6561 F1=0.7404\n",
      "--> New best model saved with accuracy: 0.8990\n"
     ]
    },
    {
     "name": "stderr",
     "output_type": "stream",
     "text": [
      "                                                           \r"
     ]
    },
    {
     "name": "stdout",
     "output_type": "stream",
     "text": [
      "Epoch 52: Loss=0.2276 Acc=0.9005 Prec=0.8569 Rec=0.6563 F1=0.7433\n",
      "--> New best model saved with accuracy: 0.9005\n"
     ]
    },
    {
     "name": "stderr",
     "output_type": "stream",
     "text": [
      "                                                           \r"
     ]
    },
    {
     "name": "stdout",
     "output_type": "stream",
     "text": [
      "Epoch 53: Loss=0.2262 Acc=0.9008 Prec=0.8550 Rec=0.6601 F1=0.7450\n"
     ]
    },
    {
     "name": "stderr",
     "output_type": "stream",
     "text": [
      "                                                           \r"
     ]
    },
    {
     "name": "stdout",
     "output_type": "stream",
     "text": [
      "Epoch 54: Loss=0.2257 Acc=0.9023 Prec=0.8580 Rec=0.6647 F1=0.7491\n",
      "--> New best model saved with accuracy: 0.9023\n"
     ]
    },
    {
     "name": "stderr",
     "output_type": "stream",
     "text": [
      "                                                           \r"
     ]
    },
    {
     "name": "stdout",
     "output_type": "stream",
     "text": [
      "Epoch 55: Loss=0.2228 Acc=0.9027 Prec=0.8602 Rec=0.6645 F1=0.7498\n"
     ]
    },
    {
     "name": "stderr",
     "output_type": "stream",
     "text": [
      "                                                           \r"
     ]
    },
    {
     "name": "stdout",
     "output_type": "stream",
     "text": [
      "Epoch 56: Loss=0.2196 Acc=0.9031 Prec=0.8551 Rec=0.6724 F1=0.7528\n"
     ]
    },
    {
     "name": "stderr",
     "output_type": "stream",
     "text": [
      "                                                           \r"
     ]
    },
    {
     "name": "stdout",
     "output_type": "stream",
     "text": [
      "Epoch 57: Loss=0.2159 Acc=0.9052 Prec=0.8604 Rec=0.6778 F1=0.7583\n",
      "--> New best model saved with accuracy: 0.9052\n"
     ]
    },
    {
     "name": "stderr",
     "output_type": "stream",
     "text": [
      "                                                           \r"
     ]
    },
    {
     "name": "stdout",
     "output_type": "stream",
     "text": [
      "Epoch 58: Loss=0.2157 Acc=0.9058 Prec=0.8624 Rec=0.6792 F1=0.7599\n"
     ]
    },
    {
     "name": "stderr",
     "output_type": "stream",
     "text": [
      "                                                           \r"
     ]
    },
    {
     "name": "stdout",
     "output_type": "stream",
     "text": [
      "Epoch 59: Loss=0.2114 Acc=0.9088 Prec=0.8663 Rec=0.6909 F1=0.7688\n",
      "--> New best model saved with accuracy: 0.9088\n"
     ]
    },
    {
     "name": "stderr",
     "output_type": "stream",
     "text": [
      "                                                           \r"
     ]
    },
    {
     "name": "stdout",
     "output_type": "stream",
     "text": [
      "Epoch 60: Loss=0.2089 Acc=0.9088 Prec=0.8655 Rec=0.6921 F1=0.7691\n"
     ]
    },
    {
     "name": "stderr",
     "output_type": "stream",
     "text": [
      "                                                           \r"
     ]
    },
    {
     "name": "stdout",
     "output_type": "stream",
     "text": [
      "Epoch 61: Loss=0.2087 Acc=0.9096 Prec=0.8616 Rec=0.7007 F1=0.7728\n"
     ]
    },
    {
     "name": "stderr",
     "output_type": "stream",
     "text": [
      "                                                           \r"
     ]
    },
    {
     "name": "stdout",
     "output_type": "stream",
     "text": [
      "Epoch 62: Loss=0.2056 Acc=0.9109 Prec=0.8729 Rec=0.6951 F1=0.7739\n",
      "--> New best model saved with accuracy: 0.9109\n"
     ]
    },
    {
     "name": "stderr",
     "output_type": "stream",
     "text": [
      "                                                           \r"
     ]
    },
    {
     "name": "stdout",
     "output_type": "stream",
     "text": [
      "Epoch 63: Loss=0.2030 Acc=0.9096 Prec=0.8651 Rec=0.6965 F1=0.7717\n"
     ]
    },
    {
     "name": "stderr",
     "output_type": "stream",
     "text": [
      "                                                           \r"
     ]
    },
    {
     "name": "stdout",
     "output_type": "stream",
     "text": [
      "Epoch 64: Loss=0.1998 Acc=0.9137 Prec=0.8729 Rec=0.7100 F1=0.7831\n",
      "--> New best model saved with accuracy: 0.9137\n"
     ]
    },
    {
     "name": "stderr",
     "output_type": "stream",
     "text": [
      "                                                           \r"
     ]
    },
    {
     "name": "stdout",
     "output_type": "stream",
     "text": [
      "Epoch 65: Loss=0.1994 Acc=0.9134 Prec=0.8698 Rec=0.7122 F1=0.7832\n"
     ]
    },
    {
     "name": "stderr",
     "output_type": "stream",
     "text": [
      "                                                           \r"
     ]
    },
    {
     "name": "stdout",
     "output_type": "stream",
     "text": [
      "Epoch 66: Loss=0.1949 Acc=0.9160 Prec=0.8794 Rec=0.7152 F1=0.7889\n",
      "--> New best model saved with accuracy: 0.9160\n"
     ]
    },
    {
     "name": "stderr",
     "output_type": "stream",
     "text": [
      "                                                           \r"
     ]
    },
    {
     "name": "stdout",
     "output_type": "stream",
     "text": [
      "Epoch 67: Loss=0.1955 Acc=0.9154 Prec=0.8755 Rec=0.7164 F1=0.7880\n"
     ]
    },
    {
     "name": "stderr",
     "output_type": "stream",
     "text": [
      "                                                           \r"
     ]
    },
    {
     "name": "stdout",
     "output_type": "stream",
     "text": [
      "Epoch 68: Loss=0.1907 Acc=0.9189 Prec=0.8830 Rec=0.7267 F1=0.7973\n",
      "--> New best model saved with accuracy: 0.9189\n"
     ]
    },
    {
     "name": "stderr",
     "output_type": "stream",
     "text": [
      "                                                           \r"
     ]
    },
    {
     "name": "stdout",
     "output_type": "stream",
     "text": [
      "Epoch 69: Loss=0.1879 Acc=0.9190 Prec=0.8814 Rec=0.7289 F1=0.7980\n"
     ]
    },
    {
     "name": "stderr",
     "output_type": "stream",
     "text": [
      "                                                           \r"
     ]
    },
    {
     "name": "stdout",
     "output_type": "stream",
     "text": [
      "Epoch 70: Loss=0.1871 Acc=0.9182 Prec=0.8767 Rec=0.7299 F1=0.7966\n"
     ]
    },
    {
     "name": "stderr",
     "output_type": "stream",
     "text": [
      "                                                           \r"
     ]
    },
    {
     "name": "stdout",
     "output_type": "stream",
     "text": [
      "Epoch 71: Loss=0.1847 Acc=0.9216 Prec=0.8855 Rec=0.7383 F1=0.8052\n",
      "--> New best model saved with accuracy: 0.9216\n"
     ]
    },
    {
     "name": "stderr",
     "output_type": "stream",
     "text": [
      "                                                           \r"
     ]
    },
    {
     "name": "stdout",
     "output_type": "stream",
     "text": [
      "Epoch 72: Loss=0.1805 Acc=0.9230 Prec=0.8878 Rec=0.7428 F1=0.8089\n",
      "--> New best model saved with accuracy: 0.9230\n"
     ]
    },
    {
     "name": "stderr",
     "output_type": "stream",
     "text": [
      "                                                           \r"
     ]
    },
    {
     "name": "stdout",
     "output_type": "stream",
     "text": [
      "Epoch 73: Loss=0.1791 Acc=0.9228 Prec=0.8833 Rec=0.7468 F1=0.8094\n"
     ]
    },
    {
     "name": "stderr",
     "output_type": "stream",
     "text": [
      "                                                           \r"
     ]
    },
    {
     "name": "stdout",
     "output_type": "stream",
     "text": [
      "Epoch 74: Loss=0.1784 Acc=0.9240 Prec=0.8860 Rec=0.7500 F1=0.8124\n",
      "--> New best model saved with accuracy: 0.9240\n"
     ]
    },
    {
     "name": "stderr",
     "output_type": "stream",
     "text": [
      "                                                           \r"
     ]
    },
    {
     "name": "stdout",
     "output_type": "stream",
     "text": [
      "Epoch 75: Loss=0.1761 Acc=0.9261 Prec=0.8913 Rec=0.7554 F1=0.8177\n",
      "--> New best model saved with accuracy: 0.9261\n"
     ]
    },
    {
     "name": "stderr",
     "output_type": "stream",
     "text": [
      "                                                           \r"
     ]
    },
    {
     "name": "stdout",
     "output_type": "stream",
     "text": [
      "Epoch 76: Loss=0.1747 Acc=0.9261 Prec=0.8904 Rec=0.7562 F1=0.8178\n"
     ]
    },
    {
     "name": "stderr",
     "output_type": "stream",
     "text": [
      "                                                           \r"
     ]
    },
    {
     "name": "stdout",
     "output_type": "stream",
     "text": [
      "Epoch 77: Loss=0.1704 Acc=0.9284 Prec=0.8990 Rec=0.7591 F1=0.8232\n",
      "--> New best model saved with accuracy: 0.9284\n"
     ]
    },
    {
     "name": "stderr",
     "output_type": "stream",
     "text": [
      "                                                           \r"
     ]
    },
    {
     "name": "stdout",
     "output_type": "stream",
     "text": [
      "Epoch 78: Loss=0.1669 Acc=0.9296 Prec=0.8965 Rec=0.7681 F1=0.8273\n",
      "--> New best model saved with accuracy: 0.9296\n"
     ]
    },
    {
     "name": "stderr",
     "output_type": "stream",
     "text": [
      "                                                           \r"
     ]
    },
    {
     "name": "stdout",
     "output_type": "stream",
     "text": [
      "Epoch 79: Loss=0.1661 Acc=0.9300 Prec=0.8976 Rec=0.7689 F1=0.8283\n"
     ]
    },
    {
     "name": "stderr",
     "output_type": "stream",
     "text": [
      "                                                           \r"
     ]
    },
    {
     "name": "stdout",
     "output_type": "stream",
     "text": [
      "Epoch 80: Loss=0.1629 Acc=0.9318 Prec=0.9013 Rec=0.7741 F1=0.8329\n",
      "--> New best model saved with accuracy: 0.9318\n"
     ]
    },
    {
     "name": "stderr",
     "output_type": "stream",
     "text": [
      "                                                           \r"
     ]
    },
    {
     "name": "stdout",
     "output_type": "stream",
     "text": [
      "Epoch 81: Loss=0.1605 Acc=0.9326 Prec=0.8988 Rec=0.7806 F1=0.8356\n"
     ]
    },
    {
     "name": "stderr",
     "output_type": "stream",
     "text": [
      "                                                           \r"
     ]
    },
    {
     "name": "stdout",
     "output_type": "stream",
     "text": [
      "Epoch 82: Loss=0.1598 Acc=0.9307 Prec=0.8973 Rec=0.7729 F1=0.8304\n"
     ]
    },
    {
     "name": "stderr",
     "output_type": "stream",
     "text": [
      "                                                           \r"
     ]
    },
    {
     "name": "stdout",
     "output_type": "stream",
     "text": [
      "Epoch 83: Loss=0.1577 Acc=0.9337 Prec=0.8992 Rec=0.7862 F1=0.8389\n",
      "--> New best model saved with accuracy: 0.9337\n"
     ]
    },
    {
     "name": "stderr",
     "output_type": "stream",
     "text": [
      "                                                           \r"
     ]
    },
    {
     "name": "stdout",
     "output_type": "stream",
     "text": [
      "Epoch 84: Loss=0.1551 Acc=0.9352 Prec=0.9038 Rec=0.7888 F1=0.8424\n",
      "--> New best model saved with accuracy: 0.9352\n"
     ]
    },
    {
     "name": "stderr",
     "output_type": "stream",
     "text": [
      "                                                           \r"
     ]
    },
    {
     "name": "stdout",
     "output_type": "stream",
     "text": [
      "Epoch 85: Loss=0.1536 Acc=0.9350 Prec=0.8995 Rec=0.7924 F1=0.8426\n"
     ]
    },
    {
     "name": "stderr",
     "output_type": "stream",
     "text": [
      "                                                           \r"
     ]
    },
    {
     "name": "stdout",
     "output_type": "stream",
     "text": [
      "Epoch 86: Loss=0.1506 Acc=0.9368 Prec=0.9059 Rec=0.7946 F1=0.8466\n",
      "--> New best model saved with accuracy: 0.9368\n"
     ]
    },
    {
     "name": "stderr",
     "output_type": "stream",
     "text": [
      "                                                           \r"
     ]
    },
    {
     "name": "stdout",
     "output_type": "stream",
     "text": [
      "Epoch 87: Loss=0.1474 Acc=0.9398 Prec=0.9140 Rec=0.8011 F1=0.8538\n",
      "--> New best model saved with accuracy: 0.9398\n"
     ]
    },
    {
     "name": "stderr",
     "output_type": "stream",
     "text": [
      "                                                           \r"
     ]
    },
    {
     "name": "stdout",
     "output_type": "stream",
     "text": [
      "Epoch 88: Loss=0.1471 Acc=0.9391 Prec=0.9100 Rec=0.8019 F1=0.8525\n"
     ]
    },
    {
     "name": "stderr",
     "output_type": "stream",
     "text": [
      "                                                           \r"
     ]
    },
    {
     "name": "stdout",
     "output_type": "stream",
     "text": [
      "Epoch 89: Loss=0.1451 Acc=0.9402 Prec=0.9101 Rec=0.8071 F1=0.8555\n"
     ]
    },
    {
     "name": "stderr",
     "output_type": "stream",
     "text": [
      "                                                           \r"
     ]
    },
    {
     "name": "stdout",
     "output_type": "stream",
     "text": [
      "Epoch 90: Loss=0.1411 Acc=0.9430 Prec=0.9182 Rec=0.8126 F1=0.8622\n",
      "--> New best model saved with accuracy: 0.9430\n"
     ]
    },
    {
     "name": "stderr",
     "output_type": "stream",
     "text": [
      "                                                           \r"
     ]
    },
    {
     "name": "stdout",
     "output_type": "stream",
     "text": [
      "Epoch 91: Loss=0.1404 Acc=0.9423 Prec=0.9145 Rec=0.8128 F1=0.8607\n"
     ]
    },
    {
     "name": "stderr",
     "output_type": "stream",
     "text": [
      "                                                           \r"
     ]
    },
    {
     "name": "stdout",
     "output_type": "stream",
     "text": [
      "Epoch 92: Loss=0.1388 Acc=0.9437 Prec=0.9168 Rec=0.8176 F1=0.8644\n"
     ]
    },
    {
     "name": "stderr",
     "output_type": "stream",
     "text": [
      "                                                           \r"
     ]
    },
    {
     "name": "stdout",
     "output_type": "stream",
     "text": [
      "Epoch 93: Loss=0.1342 Acc=0.9459 Prec=0.9205 Rec=0.8248 F1=0.8700\n",
      "--> New best model saved with accuracy: 0.9459\n"
     ]
    },
    {
     "name": "stderr",
     "output_type": "stream",
     "text": [
      "                                                           \r"
     ]
    },
    {
     "name": "stdout",
     "output_type": "stream",
     "text": [
      "Epoch 94: Loss=0.1340 Acc=0.9458 Prec=0.9183 Rec=0.8266 F1=0.8700\n"
     ]
    },
    {
     "name": "stderr",
     "output_type": "stream",
     "text": [
      "                                                           \r"
     ]
    },
    {
     "name": "stdout",
     "output_type": "stream",
     "text": [
      "Epoch 95: Loss=0.1308 Acc=0.9481 Prec=0.9274 Rec=0.8286 F1=0.8752\n",
      "--> New best model saved with accuracy: 0.9481\n"
     ]
    },
    {
     "name": "stderr",
     "output_type": "stream",
     "text": [
      "                                                           \r"
     ]
    },
    {
     "name": "stdout",
     "output_type": "stream",
     "text": [
      "Epoch 96: Loss=0.1287 Acc=0.9475 Prec=0.9234 Rec=0.8298 F1=0.8741\n"
     ]
    },
    {
     "name": "stderr",
     "output_type": "stream",
     "text": [
      "                                                           \r"
     ]
    },
    {
     "name": "stdout",
     "output_type": "stream",
     "text": [
      "Epoch 97: Loss=0.1292 Acc=0.9472 Prec=0.9209 Rec=0.8309 F1=0.8736\n"
     ]
    },
    {
     "name": "stderr",
     "output_type": "stream",
     "text": [
      "                                                           \r"
     ]
    },
    {
     "name": "stdout",
     "output_type": "stream",
     "text": [
      "Epoch 98: Loss=0.1267 Acc=0.9490 Prec=0.9264 Rec=0.8339 F1=0.8777\n"
     ]
    },
    {
     "name": "stderr",
     "output_type": "stream",
     "text": [
      "                                                           \r"
     ]
    },
    {
     "name": "stdout",
     "output_type": "stream",
     "text": [
      "Epoch 99: Loss=0.1220 Acc=0.9506 Prec=0.9281 Rec=0.8401 F1=0.8819\n",
      "--> New best model saved with accuracy: 0.9506\n",
      "Target accuracy of 0.95 reached at epoch 99.\n"
     ]
    }
   ],
   "source": [
    "# ------------------------ Training Loop with Early Stopping ------------------------\n",
    "target_accuracy = 0.95\n",
    "improvement_threshold = 0.001\n",
    "patience = 40\n",
    "best_model_path = \"nlp_model/best_model.pth\"\n",
    "os.makedirs(os.path.dirname(best_model_path), exist_ok=True)\n",
    "\n",
    "train_losses, train_accuracies, train_precisions, train_recalls, train_f1s = [], [], [], [], []\n",
    "best_accuracy = 0.0\n",
    "epochs_without_improve = 0\n",
    "epoch = 0\n",
    "\n",
    "while True:\n",
    "    epoch += 1\n",
    "    avg_loss, acc, prec, rec, f1 = train_epoch(model, train_loader)\n",
    "    train_losses.append(avg_loss)\n",
    "    train_accuracies.append(acc)\n",
    "    train_precisions.append(prec)\n",
    "    train_recalls.append(rec)\n",
    "    train_f1s.append(f1)\n",
    "    \n",
    "    print(f\"Epoch {epoch}: Loss={avg_loss:.4f} Acc={acc:.4f} Prec={prec:.4f} Rec={rec:.4f} F1={f1:.4f}\")\n",
    "    \n",
    "    # Check for improvement\n",
    "    if acc > best_accuracy + improvement_threshold:\n",
    "        best_accuracy = acc\n",
    "        epochs_without_improve = 0\n",
    "        torch.save(model.state_dict(), best_model_path)\n",
    "        print(f\"--> New best model saved with accuracy: {best_accuracy:.4f}\")\n",
    "    else:\n",
    "        epochs_without_improve += 1\n",
    "        \n",
    "    # Stop conditions\n",
    "    if acc >= target_accuracy:\n",
    "        print(f\"Target accuracy of {target_accuracy} reached at epoch {epoch}.\")\n",
    "        break\n",
    "    if epochs_without_improve >= patience:\n",
    "        print(f\"Saturation reached: No significant improvement for {patience} epochs.\")\n",
    "        torch.save(model.state_dict(), best_model_path)\n",
    "        break"
   ]
  },
  {
   "cell_type": "code",
   "execution_count": 22,
   "metadata": {},
   "outputs": [
    {
     "data": {
      "image/png": "[encoded data removed]",
      "text/plain": [
       "<Figure size 1200x800 with 4 Axes>"
      ]
     },
     "metadata": {},
     "output_type": "display_data"
    }
   ],
   "source": [
    "# ------------------------ Plot Metrics ------------------------\n",
    "epochs = range(1, epoch + 1)\n",
    "plt.figure(figsize=(12, 8))\n",
    "plt.subplot(2, 2, 1)\n",
    "plt.plot(epochs, train_losses, marker='o')\n",
    "plt.xlabel('Epoch')\n",
    "plt.ylabel('Loss')\n",
    "plt.title('Training Loss')\n",
    "\n",
    "plt.subplot(2, 2, 2)\n",
    "plt.plot(epochs, train_accuracies, marker='o', label='Accuracy')\n",
    "plt.xlabel('Epoch')\n",
    "plt.ylabel('Accuracy')\n",
    "plt.title('Training Accuracy')\n",
    "plt.legend()\n",
    "\n",
    "plt.subplot(2, 2, 3)\n",
    "plt.plot(epochs, train_precisions, marker='o', label='Precision', color='green')\n",
    "plt.xlabel('Epoch')\n",
    "plt.ylabel('Precision')\n",
    "plt.title('Training Precision')\n",
    "plt.legend()\n",
    "\n",
    "plt.subplot(2, 2, 4)\n",
    "plt.plot(epochs, train_recalls, marker='o', label='Recall', color='red')\n",
    "plt.xlabel('Epoch')\n",
    "plt.ylabel('Recall')\n",
    "plt.title('Training Recall')\n",
    "plt.legend()\n",
    "\n",
    "plt.tight_layout()\n",
    "plt.show()"
   ]
  },
  {
   "cell_type": "code",
   "execution_count": 25,
   "metadata": {},
   "outputs": [
    {
     "name": "stdout",
     "output_type": "stream",
     "text": [
      "\n",
      "Test Set Evaluation:\n",
      "Test Loss: 0.4771\n",
      "Test Accuracy: 0.8468\n",
      "Test Precision: 0.6838\n",
      "Test Recall: 0.5680\n",
      "Test F1 Score: 0.6206\n"
     ]
    }
   ],
   "source": [
    "# ------------------------ Load Best Model & Evaluate on Test Set ------------------------\n",
    "model.load_state_dict(torch.load(\"./nlp_model/best_model.pth\"))\n",
    "test_loss, test_acc, test_prec, test_rec, test_f1 = evaluate(model, test_loader)\n",
    "print(\"\\nTest Set Evaluation:\")\n",
    "print(f\"Test Loss: {test_loss:.4f}\")\n",
    "print(f\"Test Accuracy: {test_acc:.4f}\")\n",
    "print(f\"Test Precision: {test_prec:.4f}\")\n",
    "print(f\"Test Recall: {test_rec:.4f}\")\n",
    "print(f\"Test F1 Score: {test_f1:.4f}\")"
   ]
  },
  {
   "cell_type": "code",
   "execution_count": 24,
   "metadata": {},
   "outputs": [
    {
     "name": "stdout",
     "output_type": "stream",
     "text": [
      "MultiLabelBinarizer saved!\n"
     ]
    }
   ],
   "source": [
    "import joblib\n",
    "\n",
    "# Save MultiLabelBinarizer\n",
    "joblib.dump(mlb, \"mlb.pkl\")\n",
    "print(\"MultiLabelBinarizer saved!\")"
   ]
  }
 ],
 "metadata": {
  "kernelspec": {
   "display_name": ".venv",
   "language": "python",
   "name": "python3"
  },
  "language_info": {
   "codemirror_mode": {
    "name": "ipython",
    "version": 3
   },
   "file_extension": ".py",
   "mimetype": "text/x-python",
   "name": "python",
   "nbconvert_exporter": "python",
   "pygments_lexer": "ipython3",
   "version": "3.11.11"
  }
 },
 "nbformat": 4,
 "nbformat_minor": 2
}
